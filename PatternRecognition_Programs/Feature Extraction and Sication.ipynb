{
  "cells": [
    {
      "cell_type": "code",
      "execution_count": null,
      "metadata": {
        "colab": {
          "base_uri": "https://localhost:8080/"
        },
        "id": "v-JOm5fpBffd",
        "outputId": "2915e60d-824f-4e1b-f82a-d6c9931901af"
      },
      "outputs": [
        {
          "output_type": "stream",
          "name": "stdout",
          "text": [
            "Zip dosyası başarıyla çıkartıldı.\n"
          ]
        }
      ],
      "source": [
        "import zipfile\n",
        "import os\n",
        "\n",
        "# HWData.zip dosyasını çıkartma\n",
        "zip_path = 'HWData.zip'\n",
        "extract_path = 'HWData'\n",
        "\n",
        "# Eğer dosya zaten çıkartılmamışsa çıkartalım\n",
        "if not os.path.exists(extract_path):\n",
        "    with zipfile.ZipFile(zip_path, 'r') as zip_ref:\n",
        "        zip_ref.extractall(extract_path)\n",
        "    print(\"Zip dosyası başarıyla çıkartıldı.\")\n",
        "else:\n",
        "    print(\"Zip dosyası zaten çıkartılmış.\")\n"
      ]
    },
    {
      "cell_type": "code",
      "execution_count": null,
      "metadata": {
        "colab": {
          "base_uri": "https://localhost:8080/",
          "height": 971
        },
        "id": "0yeX0GCFGcl6",
        "outputId": "012cbd31-1a07-46ba-977f-ab288b6a3a12"
      },
      "outputs": [
        {
          "output_type": "stream",
          "name": "stdout",
          "text": [
            "Requirement already satisfied: opencv-contrib-python in /usr/local/lib/python3.10/dist-packages (4.8.0.76)\n",
            "Requirement already satisfied: numpy>=1.21.2 in /usr/local/lib/python3.10/dist-packages (from opencv-contrib-python) (1.25.2)\n",
            "Confusion Matrix:\n",
            " [[44  0  0  0  0  0  0  0  0  0  0  0  0  0  0]\n",
            " [ 4  0  0  0  0  0  0  0  0  0  0  0  0  0  0]\n",
            " [13  0  0  0  0  0  0  0  0  0  0  0  0  0  0]\n",
            " [ 4  0  0  0  0  0  0  0  0  0  0  0  0  0  0]\n",
            " [ 4  0  0  0  0  0  0  0  0  0  0  0  0  0  0]\n",
            " [ 4  0  0  0  0  0  0  0  0  0  0  0  0  0  0]\n",
            " [ 4  0  0  0  0  0  0  0  0  0  0  0  0  0  0]\n",
            " [ 3  0  0  0  0  0  0  0  0  0  0  0  0  0  0]\n",
            " [ 2  0  0  0  0  0  0  0  0  0  0  0  0  0  0]\n",
            " [11  0  0  0  0  0  0  0  0  0  0  0  0  0  0]\n",
            " [ 5  0  0  0  0  0  0  0  0  0  0  0  0  0  0]\n",
            " [ 3  0  0  0  0  0  0  0  0  0  0  0  0  0  0]\n",
            " [ 7  0  0  0  0  0  0  0  0  0  0  0  0  0  0]\n",
            " [ 8  0  0  0  0  0  0  0  0  0  0  0  0  0  0]\n",
            " [ 4  0  0  0  0  0  0  0  0  0  0  0  0  0  0]]\n",
            "Accuracy: 0.36666666666666664\n"
          ]
        },
        {
          "output_type": "display_data",
          "data": {
            "text/plain": [
              "<Figure size 1000x700 with 2 Axes>"
            ],
            "image/png": "[encoded data removed]"
          },
          "metadata": {}
        }
      ],
      "source": [
        "import numpy as np\n",
        "import cv2\n",
        "from skimage.color import rgb2lab, rgb2gray\n",
        "from sklearn import svm\n",
        "from sklearn.metrics import confusion_matrix, accuracy_score\n",
        "from sklearn.feature_selection import SequentialFeatureSelector as SFS\n",
        "import matplotlib.pyplot as plt\n",
        "import os\n",
        "\n",
        "# OpenCV'nin SIFT modülünü kullanmak için gerekli kütüphane\n",
        "!pip install opencv-contrib-python\n",
        "\n",
        "# Veri yollarını belirleme\n",
        "train_dir = os.path.join('HWData', 'HWData/train')\n",
        "test_dir = os.path.join('HWData', 'HWData/test')\n",
        "\n",
        "# Resimleri ve etiketleri yükleme ve özellik çıkarma\n",
        "def load_data_and_extract_features(data_dir):\n",
        "    features = []\n",
        "    labels = []\n",
        "    sift = cv2.SIFT_create()\n",
        "    for class_dir in os.listdir(data_dir):\n",
        "        class_path = os.path.join(data_dir, class_dir)\n",
        "        if os.path.isdir(class_path):\n",
        "            for img_name in os.listdir(class_path):\n",
        "                img_path = os.path.join(class_path, img_name)\n",
        "                img = cv2.imread(img_path)\n",
        "                img = cv2.resize(img, (224, 224))\n",
        "                img_lab = rgb2lab(img)\n",
        "                img_gray = rgb2gray(img_lab).astype('uint8')\n",
        "\n",
        "                # CLAHE ile kontrast artırma\n",
        "                clahe = cv2.createCLAHE(clipLimit=2.0, tileGridSize=(8, 8))\n",
        "                img_gray = clahe.apply(img_gray)\n",
        "\n",
        "                keypoints, descriptors = sift.detectAndCompute(img_gray, None)\n",
        "\n",
        "                if descriptors is not None:\n",
        "                    features.append(descriptors.flatten())\n",
        "                    labels.append(class_dir)\n",
        "\n",
        "    return features, np.array(labels)\n",
        "\n",
        "# Eğitim ve test verilerini yükleyip özellik çıkarma\n",
        "X_train, y_train = load_data_and_extract_features(train_dir)\n",
        "X_test, y_test = load_data_and_extract_features(test_dir)\n",
        "\n",
        "# Özellik vektörlerini sabit bir boyuta getirme\n",
        "max_features = 20  # Sabit boyut olarak 500'ü seçiyoruz\n",
        "X_train_padded = np.array([np.pad(x, (0, max_features - len(x)), 'constant') if len(x) < max_features else x[:max_features] for x in X_train])\n",
        "X_test_padded = np.array([np.pad(x, (0, max_features - len(x)), 'constant') if len(x) < max_features else x[:max_features] for x in X_test])\n",
        "\n",
        "# Özellik seçimi (SFS yöntemiyle)\n",
        "n_features = max_features // 2  # Özellik sayısını yarıya indirme\n",
        "sfs = SFS(svm.SVC(kernel='linear'), n_features_to_select=n_features, direction='forward')\n",
        "sfs.fit(X_train_padded, y_train)\n",
        "\n",
        "X_train_selected = sfs.transform(X_train_padded)\n",
        "X_test_selected = sfs.transform(X_test_padded)\n",
        "\n",
        "# SVM ile eğitim ve test\n",
        "model = svm.SVC(kernel='linear', decision_function_shape='ovr')\n",
        "model.fit(X_train_selected, y_train)\n",
        "\n",
        "# Tahminler\n",
        "y_pred = model.predict(X_test_selected)\n",
        "\n",
        "# Karışıklık matrisi ve doğruluk hesaplama\n",
        "conf_matrix = confusion_matrix(y_test, y_pred)\n",
        "accuracy = accuracy_score(y_test, y_pred)\n",
        "\n",
        "print('Confusion Matrix:\\n', conf_matrix)\n",
        "print('Accuracy:', accuracy)\n",
        "\n",
        "# Karışıklık matrisini görselleştirme\n",
        "plt.figure(figsize=(10, 7))\n",
        "plt.imshow(conf_matrix, interpolation='nearest', cmap=plt.cm.Blues)\n",
        "plt.title('Confusion Matrix')\n",
        "plt.colorbar()\n",
        "plt.xlabel('Predicted Label')\n",
        "plt.ylabel('True Label')\n",
        "plt.show()\n",
        "\n"
      ]
    }
  ],
  "metadata": {
    "colab": {
      "provenance": []
    },
    "kernelspec": {
      "display_name": "Python 3",
      "name": "python3"
    },
    "language_info": {
      "name": "python"
    }
  },
  "nbformat": 4,
  "nbformat_minor": 0
}