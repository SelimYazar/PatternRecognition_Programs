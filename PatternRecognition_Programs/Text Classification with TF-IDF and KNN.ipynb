{
  "nbformat": 4,
  "nbformat_minor": 0,
  "metadata": {
    "colab": {
      "provenance": []
    },
    "kernelspec": {
      "name": "python3",
      "display_name": "Python 3"
    },
    "language_info": {
      "name": "python"
    }
  },
  "cells": [
    {
      "cell_type": "markdown",
      "source": [
        "Adım 1: MI Hesaplama ve En İyi İki Kelimeyi Seçme\n"
      ],
      "metadata": {
        "id": "qcTOwGpUH91n"
      }
    },
    {
      "cell_type": "code",
      "execution_count": 1,
      "metadata": {
        "colab": {
          "base_uri": "https://localhost:8080/"
        },
        "id": "N2bMzSm8GVNh",
        "outputId": "782ef08d-ad47-42ff-a781-be39a70ed94d"
      },
      "outputs": [
        {
          "output_type": "stream",
          "name": "stdout",
          "text": [
            "Top two words by MI: ['free', 'smile']\n"
          ]
        }
      ],
      "source": [
        "import numpy as np\n",
        "from collections import Counter\n",
        "from math import log2\n",
        "\n",
        "# Eğitim verisi\n",
        "documents = [\n",
        "    (\"free free free buy discount combo pleasure\", 'S'),\n",
        "    (\"free free free discount pleasure smile smile smile\", 'S'),\n",
        "    (\"cat mouse\", 'N'),\n",
        "    (\"cat cat dog dog dog dog\", 'N'),\n",
        "    (\"mouse\", 'N')\n",
        "]\n",
        "\n",
        "# Kelime sayısı\n",
        "word_counts = Counter(word for doc, _ in documents for word in doc.split())\n",
        "\n",
        "# Kelime sayısı ve sınıf dağılımı\n",
        "class_word_counts = {'S': Counter(), 'N': Counter()}\n",
        "for doc, label in documents:\n",
        "    words = doc.split()\n",
        "    for word in words:\n",
        "        class_word_counts[label][word] += 1\n",
        "\n",
        "# MI hesaplama\n",
        "def calculate_mi(word, class_word_counts, word_counts, total_docs, class_docs):\n",
        "    mi = 0.0\n",
        "    for label in class_word_counts.keys():\n",
        "        p_wc = (class_word_counts[label][word] + 1) / (total_docs + 1)\n",
        "        p_w = (word_counts[word] + 1) / (total_docs + 1)\n",
        "        p_c = class_docs[label] / total_docs\n",
        "        mi += p_wc * log2(p_wc / (p_w * p_c))\n",
        "    return mi\n",
        "\n",
        "total_docs = len(documents)\n",
        "class_docs = {label: sum(1 for _, l in documents if l == label) for label in class_word_counts.keys()}\n",
        "mi_scores = {word: calculate_mi(word, class_word_counts, word_counts, total_docs, class_docs) for word in word_counts}\n",
        "\n",
        "# En yüksek iki MI skoru\n",
        "top_two_words = sorted(mi_scores, key=mi_scores.get, reverse=True)[:2]\n",
        "print(\"Top two words by MI:\", top_two_words)\n"
      ]
    },
    {
      "cell_type": "markdown",
      "source": [
        "Adım 2: TF*IDF Hesaplama\n"
      ],
      "metadata": {
        "id": "3592yHAYIAgb"
      }
    },
    {
      "cell_type": "code",
      "source": [
        "def calculate_tf(word, doc):\n",
        "    words = doc.split()\n",
        "    return words.count(word) / len(words)\n",
        "\n",
        "def calculate_idf(word, documents):\n",
        "    doc_count = sum(1 for doc, _ in documents if word in doc.split())\n",
        "    return log2(len(documents) / (1 + doc_count))\n",
        "\n",
        "# Seçilen iki kelime için TF*IDF hesaplama\n",
        "tfidf_scores = []\n",
        "for doc, label in documents:\n",
        "    scores = []\n",
        "    for word in top_two_words:\n",
        "        tf = calculate_tf(word, doc)\n",
        "        idf = calculate_idf(word, documents)\n",
        "        scores.append(tf * idf)\n",
        "    tfidf_scores.append(scores)\n",
        "\n",
        "print(\"TF*IDF Scores:\", tfidf_scores)\n"
      ],
      "metadata": {
        "colab": {
          "base_uri": "https://localhost:8080/"
        },
        "id": "Cwt3MhKyH6mt",
        "outputId": "d1c32f87-6e30-4f2b-94a9-b43d52cd6080"
      },
      "execution_count": 2,
      "outputs": [
        {
          "output_type": "stream",
          "name": "stdout",
          "text": [
            "TF*IDF Scores: [[0.31584239749980264, 0.0], [0.27636209781232735, 0.4957230355827609], [0.0, 0.0], [0.0, 0.0], [0.0, 0.0]]\n"
          ]
        }
      ]
    },
    {
      "cell_type": "markdown",
      "source": [
        "Adım 3: Belgeleri Temsil Etme\n"
      ],
      "metadata": {
        "id": "VGM0OWmHIDLD"
      }
    },
    {
      "cell_type": "code",
      "source": [
        "import pandas as pd\n",
        "\n",
        "# Belgeleri TF*IDF değerleri ile temsil etme\n",
        "df = pd.DataFrame(tfidf_scores, columns=top_two_words)\n",
        "print(\"TF*IDF Representation:\\n\", df)\n"
      ],
      "metadata": {
        "colab": {
          "base_uri": "https://localhost:8080/"
        },
        "id": "5KbeIYW4H6qh",
        "outputId": "d738786d-bd51-4147-f138-dc02484b0739"
      },
      "execution_count": 3,
      "outputs": [
        {
          "output_type": "stream",
          "name": "stdout",
          "text": [
            "TF*IDF Representation:\n",
            "        free     smile\n",
            "0  0.315842  0.000000\n",
            "1  0.276362  0.495723\n",
            "2  0.000000  0.000000\n",
            "3  0.000000  0.000000\n",
            "4  0.000000  0.000000\n"
          ]
        }
      ]
    },
    {
      "cell_type": "markdown",
      "source": [
        "Adım 4: Test Verileri İçin TF*IDF Hesaplama\n",
        "\n"
      ],
      "metadata": {
        "id": "LfPK6j01IGJ5"
      }
    },
    {
      "cell_type": "code",
      "source": [
        "test_documents = [\"dog cat mouse cat\", \"Free free smile\"]\n",
        "\n",
        "# Test verileri için TF*IDF hesaplama\n",
        "test_tfidf_scores = []\n",
        "for doc in test_documents:\n",
        "    scores = []\n",
        "    for word in top_two_words:\n",
        "        tf = calculate_tf(word, doc)\n",
        "        idf = calculate_idf(word, documents)\n",
        "        scores.append(tf * idf)\n",
        "    test_tfidf_scores.append(scores)\n",
        "\n",
        "print(\"Test TF*IDF Scores:\", test_tfidf_scores)\n"
      ],
      "metadata": {
        "colab": {
          "base_uri": "https://localhost:8080/"
        },
        "id": "HokFTiNSH6t8",
        "outputId": "ee12bd5b-3eee-47dc-d5ef-ecb5cc4d52c3"
      },
      "execution_count": 4,
      "outputs": [
        {
          "output_type": "stream",
          "name": "stdout",
          "text": [
            "Test TF*IDF Scores: [[0.0, 0.0], [0.24565519805540206, 0.44064269829578745]]\n"
          ]
        }
      ]
    },
    {
      "cell_type": "markdown",
      "source": [
        "Adım 5: KNN Algoritması ile Sınıf Tahmini\n"
      ],
      "metadata": {
        "id": "fcZmudCnIVP1"
      }
    },
    {
      "cell_type": "code",
      "source": [
        "from sklearn.neighbors import KNeighborsClassifier\n",
        "\n",
        "# Eğitim verisi ve sınıf etiketleri\n",
        "X_train = np.array(tfidf_scores)\n",
        "y_train = np.array([label for _, label in documents])\n",
        "\n",
        "# KNN model oluşturma ve eğitme\n",
        "knn = KNeighborsClassifier(n_neighbors=3)\n",
        "knn.fit(X_train, y_train)\n",
        "\n",
        "# Test verisi ve tahmin sonuçları\n",
        "X_test = np.array(test_tfidf_scores)\n",
        "predictions = knn.predict(X_test)\n",
        "\n",
        "# Test verileri ve tahmin edilen sınıflar\n",
        "test_documents_with_predictions = {\n",
        "    'd6': predictions[0],\n",
        "    'd7': predictions[1]\n",
        "}\n",
        "\n",
        "for doc, prediction in test_documents_with_predictions.items():\n",
        "    print(f\"Prediction for {doc}: {prediction}\")\n"
      ],
      "metadata": {
        "colab": {
          "base_uri": "https://localhost:8080/"
        },
        "id": "ZEZkD6WAH6x3",
        "outputId": "2dadc7ea-2be9-4672-8b22-b3e40c818d53"
      },
      "execution_count": 6,
      "outputs": [
        {
          "output_type": "stream",
          "name": "stdout",
          "text": [
            "Prediction for d6: N\n",
            "Prediction for d7: S\n"
          ]
        }
      ]
    }
  ]
}