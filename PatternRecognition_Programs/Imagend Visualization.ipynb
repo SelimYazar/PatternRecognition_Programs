{
  "nbformat": 4,
  "nbformat_minor": 0,
  "metadata": {
    "colab": {
      "provenance": []
    },
    "kernelspec": {
      "name": "python3",
      "display_name": "Python 3"
    },
    "language_info": {
      "name": "python"
    }
  },
  "cells": [
    {
      "cell_type": "code",
      "source": [
        "import zipfile\n",
        "import os\n",
        "import numpy as np\n",
        "import cv2\n",
        "from skimage.color import rgb2lab\n",
        "from skimage.feature import hog\n",
        "from sklearn import svm\n",
        "from sklearn.metrics import confusion_matrix, accuracy_score\n",
        "import matplotlib.pyplot as plt\n",
        "\n",
        "# HWData.zip dosyasını çıkartma\n",
        "zip_path = 'HWData.zip'\n",
        "extract_path = 'HWData'\n",
        "with zipfile.ZipFile(zip_path, 'r') as zip_ref:\n",
        "    zip_ref.extractall(extract_path)\n",
        "\n",
        "\n"
      ],
      "metadata": {
        "id": "WoBXXENK9-cp"
      },
      "execution_count": 1,
      "outputs": []
    },
    {
      "cell_type": "code",
      "source": [
        "import numpy as np\n",
        "import cv2\n",
        "from skimage.color import rgb2lab\n",
        "from skimage.feature import hog\n",
        "from sklearn import svm\n",
        "from sklearn.metrics import confusion_matrix, accuracy_score\n",
        "import matplotlib.pyplot as plt\n",
        "import os\n",
        "\n",
        "# Veri yollarını belirleme\n",
        "train_dir = os.path.join('HWData', 'HWData/train')\n",
        "test_dir = os.path.join('HWData', 'HWData/test')\n",
        "\n",
        "# Resimleri ve etiketleri yükleme ve özellik çıkarma\n",
        "def load_data_and_extract_features(data_dir):\n",
        "    features = []\n",
        "    labels = []\n",
        "    for class_dir in os.listdir(data_dir):\n",
        "        class_path = os.path.join(data_dir, class_dir)\n",
        "        if os.path.isdir(class_path):\n",
        "            for img_name in os.listdir(class_path):\n",
        "                img_path = os.path.join(class_path, img_name)\n",
        "                img = cv2.imread(img_path)\n",
        "                img = cv2.resize(img, (224, 224))\n",
        "                img_lab = rgb2lab(img)\n",
        "                img_hog, _ = hog(img_lab, pixels_per_cell=(8, 8),\n",
        "                                 cells_per_block=(2, 2), visualize=True, multichannel=True)\n",
        "                features.append(img_hog)\n",
        "                labels.append(class_dir)\n",
        "    return np.array(features), np.array(labels)\n",
        "\n",
        "# Eğitim ve test verilerini yükleyip özellik çıkarma\n",
        "X_train, y_train = load_data_and_extract_features(train_dir)\n",
        "X_test, y_test = load_data_and_extract_features(test_dir)\n",
        "\n",
        "# SVM ile eğitim ve test\n",
        "model = svm.SVC(kernel='linear', decision_function_shape='ovr')\n",
        "model.fit(X_train, y_train)\n",
        "\n",
        "# Tahminler\n",
        "y_pred = model.predict(X_test)\n",
        "\n",
        "# Karışıklık matrisi ve doğruluk hesaplama\n",
        "conf_matrix = confusion_matrix(y_test, y_pred)\n",
        "accuracy = accuracy_score(y_test, y_pred)\n",
        "\n",
        "print('Confusion Matrix:\\n', conf_matrix)\n",
        "print('Accuracy:', accuracy)\n",
        "\n",
        "# Karışıklık matrisini görselleştirme\n",
        "plt.figure(figsize=(10, 7))\n",
        "plt.imshow(conf_matrix, interpolation='nearest', cmap=plt.cm.Blues)\n",
        "plt.title('Confusion Matrix')\n",
        "plt.colorbar()\n",
        "plt.xlabel('Predicted Label')\n",
        "plt.ylabel('True Label')\n",
        "plt.show()\n"
      ],
      "metadata": {
        "colab": {
          "base_uri": "https://localhost:8080/",
          "height": 991
        },
        "id": "uOiBE2LD_yHU",
        "outputId": "3829feff-c863-4569-f62e-282489242a89"
      },
      "execution_count": 2,
      "outputs": [
        {
          "output_type": "stream",
          "name": "stderr",
          "text": [
            "<ipython-input-2-395d194ac1b2>:26: FutureWarning: `multichannel` is a deprecated argument name for `hog`. It will be removed in version 1.0. Please use `channel_axis` instead.\n",
            "  img_hog, _ = hog(img_lab, pixels_per_cell=(8, 8),\n"
          ]
        },
        {
          "output_type": "stream",
          "name": "stdout",
          "text": [
            "Confusion Matrix:\n",
            " [[46  0  0  0  0  0  0  0  0  0  0  0  0  0  0]\n",
            " [ 1  3  0  0  0  0  0  0  0  0  0  0  0  0  0]\n",
            " [ 1  0 11  0  0  0  1  0  0  0  0  0  0  0  0]\n",
            " [ 3  0  0  0  0  0  0  0  0  0  1  0  0  0  0]\n",
            " [ 4  0  0  0  0  0  0  0  0  0  0  0  0  0  0]\n",
            " [ 4  0  0  0  0  0  0  0  0  0  0  0  0  0  0]\n",
            " [ 4  0  0  0  0  0  0  0  0  0  0  0  0  0  0]\n",
            " [ 4  0  0  0  0  0  0  0  0  0  0  0  0  0  0]\n",
            " [ 2  0  0  0  0  0  0  0  0  0  0  0  0  0  0]\n",
            " [ 6  0  0  0  0  0  0  0  0  5  0  0  0  0  0]\n",
            " [ 5  0  0  0  0  0  0  0  0  0  3  0  0  0  0]\n",
            " [ 2  0  0  0  0  0  0  0  0  0  0  1  0  0  0]\n",
            " [ 5  0  0  0  0  0  0  0  0  0  0  0  3  0  0]\n",
            " [ 3  0  0  0  0  0  0  0  0  0  0  0  0  5  0]\n",
            " [ 3  0  0  0  0  0  0  0  0  0  0  0  0  0  1]]\n",
            "Accuracy: 0.6141732283464567\n"
          ]
        },
        {
          "output_type": "display_data",
          "data": {
            "text/plain": [
              "<Figure size 1000x700 with 2 Axes>"
            ],
            "image/png": "[encoded data removed]"
          },
          "metadata": {}
        }
      ]
    }
  ]
}