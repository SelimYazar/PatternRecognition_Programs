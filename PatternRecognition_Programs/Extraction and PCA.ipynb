{
  "nbformat": 4,
  "nbformat_minor": 0,
  "metadata": {
    "colab": {
      "provenance": []
    },
    "kernelspec": {
      "name": "python3",
      "display_name": "Python 3"
    },
    "language_info": {
      "name": "python"
    }
  },
  "cells": [
    {
      "cell_type": "code",
      "source": [
        "import zipfile\n",
        "import os\n",
        "import numpy as np\n",
        "from PIL import Image\n",
        "\n",
        "# Define the path to the zip file and the extraction path\n",
        "zip_path = '/content/HWData.zip'\n",
        "extraction_path = '/content/HWData'\n",
        "\n",
        "# Create the extraction path directory if it doesn't exist\n",
        "if not os.path.exists(extraction_path):\n",
        "    os.makedirs(extraction_path)\n",
        "\n",
        "# Unzip the file\n",
        "with zipfile.ZipFile(zip_path, 'r') as zip_ref:\n",
        "    zip_ref.extractall(extraction_path)\n",
        "\n",
        "print(f\"Files extracted to {extraction_path}\")\n",
        "\n",
        "# Update dataset_dir to point to the correct sub-directory where the images are stored\n",
        "dataset_dir = '/content/HWData/HWData/train'  # Adjust if necessary\n",
        "\n",
        "# Dictionary to store image data, with keys as class names and values as the matrix of image vectors\n",
        "class_images = {}\n",
        "\n",
        "# Loop through each directory in the dataset directory to process each class\n",
        "for class_dir in os.listdir(dataset_dir):\n",
        "    class_path = os.path.join(dataset_dir, class_dir)\n",
        "    if os.path.isdir(class_path):\n",
        "        # List to hold image vectors for this class\n",
        "        image_vectors = []\n",
        "\n",
        "        # Process each image in the directory\n",
        "        for image_file in os.listdir(class_path):\n",
        "            image_path = os.path.join(class_path, image_file)\n",
        "            # Check if the file is an image\n",
        "            if image_file.lower().endswith(('.png', '.jpg', '.jpeg', '.bmp', '.gif', '.tiff')):\n",
        "                try:\n",
        "                    with Image.open(image_path) as img:\n",
        "                        # Resize the image to 64x64 pixels\n",
        "                        img_resized = img.resize((64, 64))\n",
        "\n",
        "                        # Convert the image to grayscale, if it's not already\n",
        "                        img_gray = img_resized.convert('L')\n",
        "\n",
        "                        # Flatten the image to create a vector and append to the list\n",
        "                        image_vector = np.array(img_gray).flatten()\n",
        "                        image_vectors.append(image_vector)\n",
        "                except Exception as e:\n",
        "                    print(f\"Error processing image {image_file}: {e}\")\n",
        "\n",
        "        # Convert list of vectors to a numpy array and transpose it to match 4096xn format\n",
        "        if image_vectors:\n",
        "            class_images[class_dir] = np.transpose(np.array(image_vectors))\n",
        "            print(f\"Class {class_dir}, Matrix shape: {class_images[class_dir].shape}\")\n",
        "\n",
        "# Checking if no images were processed for any class\n",
        "if not class_images:\n",
        "    print(\"No images were processed. Check the dataset directory and image file types.\")\n"
      ],
      "metadata": {
        "colab": {
          "base_uri": "https://localhost:8080/"
        },
        "id": "8r2cv4KM-M9B",
        "outputId": "044dbf67-bcf6-480a-f612-3ee7713e170e"
      },
      "execution_count": 11,
      "outputs": [
        {
          "output_type": "stream",
          "name": "stdout",
          "text": [
            "Files extracted to /content/HWData\n",
            "Class brain, Matrix shape: (4096, 21)\n",
            "Class BACKGROUND_Google, Matrix shape: (4096, 94)\n",
            "Class barrel, Matrix shape: (4096, 10)\n",
            "Class accordion, Matrix shape: (4096, 12)\n",
            "Class camera, Matrix shape: (4096, 11)\n",
            "Class bonsai, Matrix shape: (4096, 27)\n",
            "Class binocular, Matrix shape: (4096, 8)\n",
            "Class beaver, Matrix shape: (4096, 10)\n",
            "Class anchor, Matrix shape: (4096, 9)\n",
            "Class butterfly, Matrix shape: (4096, 19)\n",
            "Class ant, Matrix shape: (4096, 9)\n",
            "Class airplanes, Matrix shape: (4096, 21)\n",
            "Class brontosaurus, Matrix shape: (4096, 10)\n",
            "Class buddha, Matrix shape: (4096, 18)\n",
            "Class bass, Matrix shape: (4096, 12)\n"
          ]
        }
      ]
    },
    {
      "cell_type": "code",
      "source": [
        "# Update dataset_dir to point to the test directory where the images are stored\n",
        "dataset_dir = '/content/HWData/HWData/test'  # Adjust to the test directory path\n",
        "\n",
        "# Dictionary to store image data for the test dataset, with keys as class names and values as the matrix of image vectors\n",
        "test_class_images = {}\n",
        "\n",
        "# Loop through each directory in the test dataset directory to process each class\n",
        "for class_dir in os.listdir(dataset_dir):\n",
        "    class_path = os.path.join(dataset_dir, class_dir)\n",
        "    if os.path.isdir(class_path):\n",
        "        # List to hold image vectors for this class\n",
        "        image_vectors = []\n",
        "\n",
        "        # Process each image in the directory\n",
        "        for image_file in os.listdir(class_path):\n",
        "            image_path = os.path.join(class_path, image_file)\n",
        "            # Check if the file is an image\n",
        "            if image_file.lower().endswith(('.png', '.jpg', '.jpeg', '.bmp', '.gif', '.tiff')):\n",
        "                try:\n",
        "                    with Image.open(image_path) as img:\n",
        "                        # Resize the image to 64x64 pixels\n",
        "                        img_resized = img.resize((64, 64))\n",
        "\n",
        "                        # Convert the image to grayscale, if it's not already\n",
        "                        img_gray = img_resized.convert('L')\n",
        "\n",
        "                        # Flatten the image to create a vector and append to the list\n",
        "                        image_vector = np.array(img_gray).flatten()\n",
        "                        image_vectors.append(image_vector)\n",
        "                except Exception as e:\n",
        "                    print(f\"Error processing image {image_file}: {e}\")\n",
        "\n",
        "        # Convert list of vectors to a numpy array and transpose it to match 4096xn format\n",
        "        if image_vectors:\n",
        "            test_class_images[class_dir] = np.transpose(np.array(image_vectors))\n",
        "            print(f\"Test Class {class_dir}, Matrix shape: {test_class_images[class_dir].shape}\")\n",
        "\n",
        "# Checking if no images were processed for any class in the test dataset\n",
        "if not test_class_images:\n",
        "    print(\"No test images were processed. Check the dataset directory and image file types.\")\n"
      ],
      "metadata": {
        "colab": {
          "base_uri": "https://localhost:8080/"
        },
        "id": "TjCxs4jIBBiR",
        "outputId": "c46057b2-e472-4295-d71b-56ba03df825f"
      },
      "execution_count": 12,
      "outputs": [
        {
          "output_type": "stream",
          "name": "stdout",
          "text": [
            "Test Class brain, Matrix shape: (4096, 8)\n",
            "Test Class BACKGROUND_Google, Matrix shape: (4096, 46)\n",
            "Test Class barrel, Matrix shape: (4096, 4)\n",
            "Test Class accordion, Matrix shape: (4096, 4)\n",
            "Test Class camera, Matrix shape: (4096, 4)\n",
            "Test Class bonsai, Matrix shape: (4096, 11)\n",
            "Test Class binocular, Matrix shape: (4096, 2)\n",
            "Test Class beaver, Matrix shape: (4096, 4)\n",
            "Test Class anchor, Matrix shape: (4096, 4)\n",
            "Test Class butterfly, Matrix shape: (4096, 8)\n",
            "Test Class ant, Matrix shape: (4096, 4)\n",
            "Test Class airplanes, Matrix shape: (4096, 13)\n",
            "Test Class brontosaurus, Matrix shape: (4096, 3)\n",
            "Test Class buddha, Matrix shape: (4096, 8)\n",
            "Test Class bass, Matrix shape: (4096, 4)\n"
          ]
        }
      ]
    },
    {
      "cell_type": "code",
      "source": [
        "import numpy as np\n",
        "\n",
        "# Assume 'class_images' is the dictionary from Stage 1 containing 4096xn matrices for each class\n",
        "pca_results = {}\n",
        "\n",
        "for class_name, data_matrix in class_images.items():\n",
        "    # PCA Step 1: Calculate the covariance matrix\n",
        "    # Note: We need to transpose the data matrix to fit the shape requirements of cov function (observations as columns)\n",
        "    covariance_matrix = np.cov(data_matrix, rowvar=False)\n",
        "\n",
        "    # PCA Step 2: Calculate eigenvalues and eigenvectors\n",
        "    eigenvalues, eigenvectors = np.linalg.eig(covariance_matrix)\n",
        "\n",
        "    # PCA Step 3: Sort the eigenvectors by descending eigenvalues\n",
        "    # Get the indices of the sorted eigenvalues in descending order\n",
        "    sorted_indices = np.argsort(eigenvalues)[::-1]\n",
        "\n",
        "    # Select the top three eigenvectors\n",
        "    top_eigenvectors = eigenvectors[:, sorted_indices[:3]]\n",
        "\n",
        "    # Store the results in the dictionary\n",
        "    pca_results[class_name] = {\n",
        "        'eigenvalues': eigenvalues[sorted_indices[:3]],\n",
        "        'eigenvectors': top_eigenvectors\n",
        "    }\n",
        "\n",
        "    # Print the shape of the matrix containing the top 3 eigenvectors for verification\n",
        "    print(f\"Class {class_name}: Eigenvectors matrix shape (should be nx3): {top_eigenvectors.shape}\")\n",
        "\n",
        "# Now pca_results contains the PCA results for each class, with the top 3 eigenvectors used to transform the data\n"
      ],
      "metadata": {
        "colab": {
          "base_uri": "https://localhost:8080/"
        },
        "id": "n-iidqrdBK5l",
        "outputId": "72ad5fce-35aa-4470-e702-4e644d2d1c13"
      },
      "execution_count": 13,
      "outputs": [
        {
          "output_type": "stream",
          "name": "stdout",
          "text": [
            "Class brain: Eigenvectors matrix shape (should be nx3): (21, 3)\n",
            "Class BACKGROUND_Google: Eigenvectors matrix shape (should be nx3): (94, 3)\n",
            "Class barrel: Eigenvectors matrix shape (should be nx3): (10, 3)\n",
            "Class accordion: Eigenvectors matrix shape (should be nx3): (12, 3)\n",
            "Class camera: Eigenvectors matrix shape (should be nx3): (11, 3)\n",
            "Class bonsai: Eigenvectors matrix shape (should be nx3): (27, 3)\n",
            "Class binocular: Eigenvectors matrix shape (should be nx3): (8, 3)\n",
            "Class beaver: Eigenvectors matrix shape (should be nx3): (10, 3)\n",
            "Class anchor: Eigenvectors matrix shape (should be nx3): (9, 3)\n",
            "Class butterfly: Eigenvectors matrix shape (should be nx3): (19, 3)\n",
            "Class ant: Eigenvectors matrix shape (should be nx3): (9, 3)\n",
            "Class airplanes: Eigenvectors matrix shape (should be nx3): (21, 3)\n",
            "Class brontosaurus: Eigenvectors matrix shape (should be nx3): (10, 3)\n",
            "Class buddha: Eigenvectors matrix shape (should be nx3): (18, 3)\n",
            "Class bass: Eigenvectors matrix shape (should be nx3): (12, 3)\n"
          ]
        }
      ]
    },
    {
      "cell_type": "code",
      "source": [
        "for class_name, data_matrix in class_images.items():\n",
        "    # Retrieve the top 3 eigenvectors for this class (nx3 matrix)\n",
        "    top_eigenvectors = pca_results[class_name]['eigenvectors']\n",
        "\n",
        "    # Correctly project the data matrix onto these top 3 eigenvectors\n",
        "    # data_matrix is 4096xn, top_eigenvectors is nx3\n",
        "    # We need to multiply: data_matrix * top_eigenvectors\n",
        "    # The result will be a 4096x3 matrix representing the class in the new feature space\n",
        "    projected_features = np.dot(data_matrix, top_eigenvectors)\n",
        "    # Dictionary to store PCA features for each class\n",
        "    pca_features = {}\n",
        "\n",
        "    # Store the projected features in the dictionary\n",
        "    pca_features[class_name] = projected_features\n",
        "\n",
        "    # Print the shape of the projected features matrix to verify its dimensions\n",
        "    print(f\"Class {class_name}: Projected features matrix shape (should be 4096x3): {projected_features.shape}\")\n"
      ],
      "metadata": {
        "colab": {
          "base_uri": "https://localhost:8080/"
        },
        "id": "cNCgsYUdCagz",
        "outputId": "2cbf2603-0bae-48b6-e8f0-cb87451346b0"
      },
      "execution_count": 14,
      "outputs": [
        {
          "output_type": "stream",
          "name": "stdout",
          "text": [
            "Class brain: Projected features matrix shape (should be 4096x3): (4096, 3)\n",
            "Class BACKGROUND_Google: Projected features matrix shape (should be 4096x3): (4096, 3)\n",
            "Class barrel: Projected features matrix shape (should be 4096x3): (4096, 3)\n",
            "Class accordion: Projected features matrix shape (should be 4096x3): (4096, 3)\n",
            "Class camera: Projected features matrix shape (should be 4096x3): (4096, 3)\n",
            "Class bonsai: Projected features matrix shape (should be 4096x3): (4096, 3)\n",
            "Class binocular: Projected features matrix shape (should be 4096x3): (4096, 3)\n",
            "Class beaver: Projected features matrix shape (should be 4096x3): (4096, 3)\n",
            "Class anchor: Projected features matrix shape (should be 4096x3): (4096, 3)\n",
            "Class butterfly: Projected features matrix shape (should be 4096x3): (4096, 3)\n",
            "Class ant: Projected features matrix shape (should be 4096x3): (4096, 3)\n",
            "Class airplanes: Projected features matrix shape (should be 4096x3): (4096, 3)\n",
            "Class brontosaurus: Projected features matrix shape (should be 4096x3): (4096, 3)\n",
            "Class buddha: Projected features matrix shape (should be 4096x3): (4096, 3)\n",
            "Class bass: Projected features matrix shape (should be 4096x3): (4096, 3)\n"
          ]
        }
      ]
    },
    {
      "cell_type": "code",
      "source": [
        "import numpy as np\n",
        "from PIL import Image\n",
        "import os\n",
        "\n",
        "def read_and_process_image(image_path):\n",
        "    with Image.open(image_path) as img:\n",
        "        img_resized = img.resize((64, 64))\n",
        "        img_gray = img_resized.convert('L')\n",
        "        image_vector = np.array(img_gray).flatten()\n",
        "    return image_vector\n",
        "\n",
        "def project_to_pca_space(test_vector, eigenvectors):\n",
        "    test_vector_reshaped = test_vector.reshape(1, -1)\n",
        "    test_features = np.dot(test_vector_reshaped, eigenvectors)\n",
        "    return test_features\n",
        "\n",
        "def calculate_distances_and_predict(test_features, pca_features):\n",
        "    min_distance = float('inf')\n",
        "    predicted_class = None\n",
        "    for class_name, class_features in pca_features.items():\n",
        "        distance = np.linalg.norm(test_features - class_features, axis=1).min()\n",
        "        if distance < min_distance:\n",
        "            min_distance = distance\n",
        "            predicted_class = class_name\n",
        "    return min_distance, predicted_class\n",
        "\n",
        "# Özvektörler ve PCA özellikleri\n",
        "eigenvectors = {}\n",
        "pca_features = {}\n",
        "\n",
        "for class_name, data_matrix in class_images.items():\n",
        "    if data_matrix.shape[0] != 4096:\n",
        "        data_matrix = data_matrix.T  # Her bir sütun bir görseli temsil etmeli\n",
        "\n",
        "    covariance_matrix = np.cov(data_matrix, rowvar=True)  # Şimdi her satır bir değişken olacak\n",
        "    eigenvalues, eigenvectors_ = np.linalg.eig(covariance_matrix)\n",
        "    indices = eigenvalues.argsort()[::-1]\n",
        "    top_eigenvectors = eigenvectors_[:, indices[:3]]\n",
        "    eigenvectors[class_name] = top_eigenvectors\n",
        "    pca_features[class_name] = np.dot(data_matrix.T, top_eigenvectors)  # Projekte edilmiş özellikler\n",
        "\n",
        "# Test görüntüsü işleme ve sınıf tahmini\n",
        "test_image_path = '/content/HWData/HWData/test/accordion/image_0052.jpg'\n",
        "test_vector = read_and_process_image(test_image_path)\n",
        "\n",
        "predicted_class = None\n",
        "min_distance = float('inf')\n",
        "\n",
        "for class_name, class_eigenvectors in eigenvectors.items():\n",
        "    test_features = project_to_pca_space(test_vector, class_eigenvectors)\n",
        "    current_distance, current_class = calculate_distances_and_predict(test_features, pca_features)\n",
        "    if current_distance < min_distance:\n",
        "        min_distance = current_distance\n",
        "        predicted_class = current_class\n",
        "\n",
        "print(f\"Tahmin edilen sınıf: {predicted_class}\")\n"
      ],
      "metadata": {
        "colab": {
          "base_uri": "https://localhost:8080/"
        },
        "id": "B9250uSw2Tva",
        "outputId": "c73fa851-2a98-4b03-a027-d365c53c48db"
      },
      "execution_count": 22,
      "outputs": [
        {
          "output_type": "stream",
          "name": "stdout",
          "text": [
            "Tahmin edilen sınıf: beaver\n"
          ]
        }
      ]
    }
  ]
}