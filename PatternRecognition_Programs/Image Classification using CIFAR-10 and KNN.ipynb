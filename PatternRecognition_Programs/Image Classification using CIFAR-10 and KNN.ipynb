{
  "nbformat": 4,
  "nbformat_minor": 0,
  "metadata": {
    "colab": {
      "provenance": []
    },
    "kernelspec": {
      "name": "python3",
      "display_name": "Python 3"
    },
    "language_info": {
      "name": "python"
    }
  },
  "cells": [
    {
      "cell_type": "code",
      "execution_count": 1,
      "metadata": {
        "id": "ClO1Lb431oZV",
        "colab": {
          "base_uri": "https://localhost:8080/"
        },
        "outputId": "a83fc379-997b-4c2a-feda-ae57c372b5dc"
      },
      "outputs": [
        {
          "output_type": "stream",
          "name": "stdout",
          "text": [
            "Downloading data from https://www.cs.toronto.edu/~kriz/cifar-10-python.tar.gz\n",
            "170498071/170498071 [==============================] - 11s 0us/step\n"
          ]
        }
      ],
      "source": [
        "from keras.datasets import cifar10\n",
        "\n",
        "(x_train, y_train), (x_test, y_test) = cifar10.load_data()\n"
      ]
    },
    {
      "cell_type": "code",
      "source": [
        "x_train = x_train.reshape(-1, 3072)  # 32x32x3 = 3072\n",
        "x_test = x_test.reshape(-1, 3072)\n"
      ],
      "metadata": {
        "id": "XsAFiEnQ2QqK"
      },
      "execution_count": 2,
      "outputs": []
    },
    {
      "cell_type": "code",
      "source": [
        "\n",
        "import numpy as np\n",
        "\n",
        "def custom_similarity(x, y):\n",
        "    # Vektörlerin nokta çarpımını hesapla\n",
        "    dot_product = np.dot(x, y)\n",
        "    # Vektörlerin öklid normlarını hesapla\n",
        "    norm_x = np.linalg.norm(x)\n",
        "    norm_y = np.linalg.norm(y)\n",
        "    if norm_x == 0 or norm_y == 0:\n",
        "        return 0  # Bölen sıfır olmamalı, bu yüzden herhangi bir norm sıfırsa, benzerlik 0 olarak kabul edilir.\n",
        "    similarity = dot_product / (norm_x * norm_y)\n",
        "    return similarity\n",
        "\n",
        "\n",
        "\n",
        "\n",
        "def knn_custom_similarity(x_train, y_train, sample_test, k):\n",
        "    similarities = []\n",
        "    for i in range(len(x_train)):\n",
        "        sim = custom_similarity(sample_test, x_train[i])\n",
        "        similarities.append((sim, y_train[i]))\n",
        "    # Benzerliklere göre sıralama ve en yüksek 'k' değerini seçme\n",
        "    sorted_similarities = sorted(similarities, key=lambda x: x[0], reverse=True)\n",
        "    top_k = sorted_similarities[:k]\n",
        "    # En sık rastlanan sınıfı bulma\n",
        "    classes = [item[1] for item in top_k]\n",
        "    prediction = max(classes, key=classes.count)\n",
        "    # Eğer prediction bir dizi ise, ilk öğeyi alarak bir tamsayıya dönüştür\n",
        "    if isinstance(prediction, np.ndarray):\n",
        "        prediction = prediction.item()\n",
        "\n",
        "    return prediction\n"
      ],
      "metadata": {
        "id": "LTG6FHzx2QxR"
      },
      "execution_count": 3,
      "outputs": []
    },
    {
      "cell_type": "code",
      "source": [
        "import numpy as np\n",
        "\n",
        "# Rastgele bir index seç\n",
        "random_index = np.random.randint(0,len(x_test))  # 0 ile 9999 arası bir sayı üretir\n",
        "\n",
        "# Rastgele seçilen indekse göre test vektörünü al\n",
        "sample_test = x_test[random_index]\n",
        "k = 7\n",
        "\n",
        "# Sınıflandırma fonksiyonunu çağırarak tahmini sınıfı al\n",
        "predicted_class = knn_custom_similarity(x_train, y_train, sample_test, k)\n",
        "print(f\"Predicted class for index {random_index}: {predicted_class}\")\n",
        "\n",
        "# Sınıf isimlerinin listesi\n",
        "class_names = [\"airplane\", \"automobile\", \"bird\", \"cat\", \"deer\", \"dog\", \"frog\", \"horse\", \"ship\", \"truck\"]\n",
        "\n",
        "# Tahmin edilen sınıf etiketini sınıfın ismine çevir\n",
        "predicted_class_name = class_names[predicted_class]\n",
        "\n",
        "# Sonucu yazdır\n",
        "print(f\"Predicted class name for index {random_index}: {predicted_class_name}\")\n"
      ],
      "metadata": {
        "colab": {
          "base_uri": "https://localhost:8080/"
        },
        "id": "huuDi66Q79-s",
        "outputId": "095110c1-c5ff-4e63-c2b9-5321e7840fa1"
      },
      "execution_count": 16,
      "outputs": [
        {
          "output_type": "stream",
          "name": "stdout",
          "text": [
            "Predicted class for index 2475: 3\n",
            "Predicted class name for index 2475: cat\n"
          ]
        }
      ]
    }
  ]
}